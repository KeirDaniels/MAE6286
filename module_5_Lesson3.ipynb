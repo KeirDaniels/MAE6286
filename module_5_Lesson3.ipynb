{
 "cells": [
  {
   "cell_type": "code",
   "execution_count": 17,
   "metadata": {},
   "outputs": [
    {
     "ename": "ModuleNotFoundError",
     "evalue": "No module named 'helper'",
     "output_type": "error",
     "traceback": [
      "\u001b[0;31m---------------------------------------------------------------------------\u001b[0m",
      "\u001b[0;31mModuleNotFoundError\u001b[0m                       Traceback (most recent call last)",
      "\u001b[0;32m<ipython-input-17-04ef22cdbf23>\u001b[0m in \u001b[0;36m<module>\u001b[0;34m\u001b[0m\n\u001b[1;32m      1\u001b[0m \u001b[0;32mimport\u001b[0m \u001b[0mnumpy\u001b[0m\u001b[0;34m\u001b[0m\u001b[0;34m\u001b[0m\u001b[0m\n\u001b[0;32m----> 2\u001b[0;31m \u001b[0;32mfrom\u001b[0m \u001b[0mhelper\u001b[0m \u001b[0;32mimport\u001b[0m \u001b[0mlaplace_solution\u001b[0m\u001b[0;34m,\u001b[0m \u001b[0ml2_norm\u001b[0m\u001b[0;34m,\u001b[0m \u001b[0mplot_3d\u001b[0m\u001b[0;34m\u001b[0m\u001b[0;34m\u001b[0m\u001b[0m\n\u001b[0m",
      "\u001b[0;31mModuleNotFoundError\u001b[0m: No module named 'helper'"
     ]
    }
   ],
   "source": [
    "import numpy\n",
    "from helper import laplace_solution, l2_norm, plot_3d"
   ]
  },
  {
   "cell_type": "code",
   "execution_count": 13,
   "metadata": {},
   "outputs": [],
   "source": [
    "def jacobi(u, b, iters):\n",
    "    ny, nx = u.shape\n",
    "    \n",
    "    for it in range(iters):\n",
    "    \n",
    "        uk = u.copy()\n",
    "        for j in range (1, ny-1):\n",
    "            for i in range(1, nx-1):\n",
    "                u[j,i] = 0.25 * (uk[j-1,i] + uk[j, i-1] - 4 * uk[j,i] + uk[j, i+1] + u[j+1,i] - b[j,i])\n",
    "        \n",
    "        \n",
    "        #rdiff = check_convergence(p, pn)\n",
    "        return u"
   ]
  },
  {
   "cell_type": "code",
   "execution_count": 14,
   "metadata": {},
   "outputs": [
    {
     "name": "stdout",
     "output_type": "stream",
     "text": [
      "[[ 0.4921875  0.2421875  0.2421875]\n",
      " [ 0.2421875 -0.0078125 -0.0078125]\n",
      " [ 0.4921875  0.2421875  0.2421875]]\n"
     ]
    }
   ],
   "source": [
    "nx = ny = 5\n",
    "dx = 0.25\n",
    "u = numpy.zeros((ny,nx))\n",
    "b = numpy.ones((ny,nx)) * 0.5* .25 * .25\n",
    "\n",
    "u[:,0] =1\n",
    "u[0,:] = 1\n",
    "u[-1::] = 1\n",
    "\n",
    "\n",
    "u = jacobi(u, b ,1)\n",
    "print(u[1:-1, 1:-1])\n",
    "\n"
   ]
  },
  {
   "cell_type": "code",
   "execution_count": 18,
   "metadata": {},
   "outputs": [],
   "source": [
    "def laplace_2d_gaus_sedel(p0, b, iters):\n",
    "    p = p0.copy()\n",
    "    ny, nx = p0.shape\n",
    "    \n",
    "    for i in range(iters):\n",
    "        pn = p.copy()\n",
    "        \n",
    "        for j in range(1, ny -1):\n",
    "            for i in range(1, nx- 1):\n",
    "                p[j, i] = 0.25 * (p[j-1, i] + p[j, i-1] + pn[j, i+1]\n",
    "                                 + pn[j+1, i] - b[j,i])\n",
    "    return p"
   ]
  },
  {
   "cell_type": "code",
   "execution_count": 19,
   "metadata": {},
   "outputs": [
    {
     "name": "stdout",
     "output_type": "stream",
     "text": [
      "[[0.61328125 0.45410156 0.35375977]\n",
      " [0.51660156 0.29345703 0.21453857]\n",
      " [0.68188477 0.54656982 0.4324646 ]]\n"
     ]
    }
   ],
   "source": [
    "u = laplace_2d_gaus_sedel(u, b ,1)\n",
    "print(u[1:-1, 1:-1])"
   ]
  },
  {
   "cell_type": "code",
   "execution_count": 27,
   "metadata": {},
   "outputs": [],
   "source": [
    "def poisson2d_sor(p0, b, iters, w=0.2):\n",
    "    p = p0.copy()\n",
    "    ny, nx = p0.shape\n",
    "    \n",
    "    for i in range(iters):\n",
    "        pn = p.copy()\n",
    "        for j in range(1, ny-1):\n",
    "            for i in range(1, nx -1):\n",
    "                p[j,i] = ((1- w)* pn[j,i] + \n",
    "                         0.25 * w * (p[j-1, i]\n",
    "                                    + p[j, i-1] + pn[j, i+1] + pn[j+1, i]\n",
    "                                    - b[j,i]))\n",
    "    return p\n",
    "        \n",
    "    "
   ]
  },
  {
   "cell_type": "code",
   "execution_count": 28,
   "metadata": {},
   "outputs": [
    {
     "name": "stdout",
     "output_type": "stream",
     "text": [
      "[[0.63759766 0.47595947 0.36597021]\n",
      " [0.54236572 0.3221748  0.22609884]\n",
      " [0.69839209 0.55834493 0.43363137]]\n"
     ]
    }
   ],
   "source": [
    "u = poisson2d_sor(u, b, 1, w=0.2)\n",
    "print(u[1:-1, 1:-1])"
   ]
  },
  {
   "cell_type": "code",
   "execution_count": null,
   "metadata": {},
   "outputs": [],
   "source": []
  }
 ],
 "metadata": {
  "kernelspec": {
   "display_name": "Python 3",
   "language": "python",
   "name": "python3"
  },
  "language_info": {
   "codemirror_mode": {
    "name": "ipython",
    "version": 3
   },
   "file_extension": ".py",
   "mimetype": "text/x-python",
   "name": "python",
   "nbconvert_exporter": "python",
   "pygments_lexer": "ipython3",
   "version": "3.7.3"
  }
 },
 "nbformat": 4,
 "nbformat_minor": 2
}
